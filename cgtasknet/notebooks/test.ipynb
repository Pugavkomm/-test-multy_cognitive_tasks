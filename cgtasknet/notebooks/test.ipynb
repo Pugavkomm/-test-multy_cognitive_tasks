{
 "cells": [
  {
   "cell_type": "code",
   "execution_count": 3,
   "metadata": {},
   "outputs": [],
   "source": [
    "from cgtasknet.net.alif_one_layer import SNNALIF\n",
    "feature_size = 2\n",
    "output_size = 2\n",
    "hidden_size = 100\n",
    "model = SNNALIF(feature_size, hidden_size, output_size)\n"
   ]
  },
  {
   "cell_type": "code",
   "execution_count": 2,
   "metadata": {},
   "outputs": [],
   "source": []
  },
  {
   "cell_type": "code",
   "execution_count": 10,
   "metadata": {},
   "outputs": [
    {
     "name": "stdout",
     "output_type": "stream",
     "text": [
      "Package                 Version     Location\n",
      "----------------------- ----------- ---------------------------------------------------------------\n",
      "absl-py                 0.15.0\n",
      "aiohttp                 3.7.4.post0\n",
      "ale-py                  0.7.3\n",
      "async-timeout           3.0.1\n",
      "attrs                   21.2.0\n",
      "backcall                0.2.0\n",
      "cachetools              4.2.4\n",
      "certifi                 2021.10.8\n",
      "cgtasknet               0.0.1       /home/mech/projects/neural_networks/-test-multy_cognitive_tasks\n",
      "chardet                 4.0.0\n",
      "charset-normalizer      2.0.7\n",
      "cloudpickle             2.0.0\n",
      "cycler                  0.11.0\n",
      "debugpy                 1.5.1\n",
      "decorator               5.1.0\n",
      "entrypoints             0.3\n",
      "fsspec                  2021.10.1\n",
      "future                  0.18.2\n",
      "google-auth             2.3.2\n",
      "google-auth-oauthlib    0.4.6\n",
      "grpcio                  1.41.1\n",
      "gym                     0.21.0\n",
      "idna                    3.3\n",
      "importlib-resources     5.4.0\n",
      "ipykernel               6.4.2\n",
      "ipython                 7.29.0\n",
      "ipython-genutils        0.2.0\n",
      "jedi                    0.18.0\n",
      "joblib                  1.1.0\n",
      "jupyter-client          7.0.6\n",
      "jupyter-core            4.9.1\n",
      "kiwisolver              1.3.2\n",
      "Markdown                3.3.4\n",
      "matplotlib              3.4.3\n",
      "matplotlib-inline       0.1.3\n",
      "multidict               5.2.0\n",
      "nest-asyncio            1.5.1\n",
      "norse                   0.0.7.post1\n",
      "numpy                   1.21.3\n",
      "oauthlib                3.1.1\n",
      "opencv-python           4.5.4.58\n",
      "packaging               21.2\n",
      "pandas                  1.3.4\n",
      "parso                   0.8.2\n",
      "pexpect                 4.8.0\n",
      "pickleshare             0.7.5\n",
      "Pillow                  8.4.0\n",
      "pip                     21.2.3\n",
      "prompt-toolkit          3.0.21\n",
      "protobuf                3.19.1\n",
      "ptyprocess              0.7.0\n",
      "pyasn1                  0.4.8\n",
      "pyasn1-modules          0.2.8\n",
      "pyDeprecate             0.3.1\n",
      "pyglet                  1.5.21\n",
      "Pygments                2.10.0\n",
      "pyparsing               2.4.7\n",
      "python-dateutil         2.8.2\n",
      "pytorch-lightning       1.4.9\n",
      "pytz                    2021.3\n",
      "PyYAML                  6.0\n",
      "pyzmq                   22.3.0\n",
      "requests                2.26.0\n",
      "requests-oauthlib       1.3.0\n",
      "rsa                     4.7.2\n",
      "scikit-learn            1.0.1\n",
      "scipy                   1.7.1\n",
      "setuptools              59.4.0\n",
      "six                     1.16.0\n",
      "sklearn                 0.0\n",
      "stable-baselines        2.10.2\n",
      "tensorboard             2.7.0\n",
      "tensorboard-data-server 0.6.1\n",
      "tensorboard-plugin-wit  1.8.0\n",
      "threadpoolctl           3.0.0\n",
      "tk                      0.1.0\n",
      "torch                   1.10.0\n",
      "torchmetrics            0.6.0\n",
      "torchsummary            1.5.1\n",
      "torchvision             0.11.1\n",
      "tornado                 6.1\n",
      "tqdm                    4.62.3\n",
      "traitlets               5.1.1\n",
      "typing-extensions       3.10.0.2\n",
      "urllib3                 1.26.7\n",
      "wcwidth                 0.2.5\n",
      "Werkzeug                2.0.2\n",
      "wheel                   0.37.0\n",
      "yarl                    1.7.0\n",
      "zipp                    3.6.0\n",
      "\u001b[33mWARNING: You are using pip version 21.2.3; however, version 21.3.1 is available.\n",
      "You should consider upgrading via the '/home/mech/projects/neural_networks/-test-multy_cognitive_tasks/env/bin/python3 -m pip install --upgrade pip' command.\u001b[0m\n"
     ]
    }
   ],
   "source": [
    "! pip3 list "
   ]
  },
  {
   "cell_type": "code",
   "execution_count": null,
   "metadata": {},
   "outputs": [],
   "source": []
  }
 ],
 "metadata": {
  "interpreter": {
   "hash": "2f83ba25b4055e6850166001f95ed136092a6ce41bf7679ca537d862fe029930"
  },
  "kernelspec": {
   "display_name": "Python 3.9.7 64-bit ('env': venv)",
   "language": "python",
   "name": "python3"
  },
  "language_info": {
   "codemirror_mode": {
    "name": "ipython",
    "version": 3
   },
   "file_extension": ".py",
   "mimetype": "text/x-python",
   "name": "python",
   "nbconvert_exporter": "python",
   "pygments_lexer": "ipython3",
   "version": "3.9.7"
  },
  "orig_nbformat": 4
 },
 "nbformat": 4,
 "nbformat_minor": 2
}
