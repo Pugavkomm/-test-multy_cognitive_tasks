{
 "cells": [
  {
   "cell_type": "code",
   "execution_count": 2,
   "source": [
    "import torch\n",
    "import norse.torch as norse\n",
    "\n",
    "cell = norse.LIFCell()\n",
    "data = torch.ones(1)\n",
    "spikes, state = cell(data)        # First run is done without any state\n",
    "# ...\n",
    "spikes, state = cell(data, state) "
   ],
   "outputs": [],
   "metadata": {}
  },
  {
   "cell_type": "code",
   "execution_count": 4,
   "source": [],
   "outputs": [
    {
     "output_type": "execute_result",
     "data": {
      "text/plain": [
       "tensor([[-0.6370],\n",
       "        [-0.6370],\n",
       "        [-0.6370],\n",
       "        [-0.6370]], grad_fn=<AddmmBackward0>)"
      ]
     },
     "metadata": {},
     "execution_count": 4
    }
   ],
   "metadata": {}
  },
  {
   "cell_type": "code",
   "execution_count": null,
   "source": [],
   "outputs": [],
   "metadata": {}
  }
 ],
 "metadata": {
  "orig_nbformat": 4,
  "language_info": {
   "name": "python",
   "version": "3.9.7",
   "mimetype": "text/x-python",
   "codemirror_mode": {
    "name": "ipython",
    "version": 3
   },
   "pygments_lexer": "ipython3",
   "nbconvert_exporter": "python",
   "file_extension": ".py"
  },
  "kernelspec": {
   "name": "python3",
   "display_name": "Python 3.9.7 64-bit ('env': venv)"
  },
  "interpreter": {
   "hash": "996bd9354ccb6f80ad6e6c455c9578561fe7b19b1b69868c4d5419a2d2220e9f"
  }
 },
 "nbformat": 4,
 "nbformat_minor": 2
}